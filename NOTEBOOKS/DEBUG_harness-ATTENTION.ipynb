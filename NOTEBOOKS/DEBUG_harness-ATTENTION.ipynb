{
 "cells": [
  {
   "cell_type": "code",
   "execution_count": 1,
   "metadata": {},
   "outputs": [],
   "source": [
    "%load_ext autoreload\n",
    "%autoreload 2"
   ]
  },
  {
   "cell_type": "code",
   "execution_count": 2,
   "metadata": {},
   "outputs": [],
   "source": [
    "import sys\n",
    "sys.path.append(\"../code\")#You may have to alter this, depending on where you are running your notebook server."
   ]
  },
  {
   "cell_type": "code",
   "execution_count": null,
   "metadata": {},
   "outputs": [],
   "source": [
    "import pylab"
   ]
  },
  {
   "cell_type": "code",
   "execution_count": 3,
   "metadata": {},
   "outputs": [],
   "source": [
    "import torch\n",
    "import numpy as np\n",
    "import utils.seq as useq\n",
    "a = useq.RNN_Absolute_Position(60).create_matrix(45)\n",
    "b = useq.RNN_Relative_Position(60).create_matrix(41,41)"
   ]
  },
  {
   "cell_type": "code",
   "execution_count": 4,
   "metadata": {},
   "outputs": [],
   "source": [
    "#aa = torch.softmax((a@a.T)*np.power(a.shape[-1],-0.5),-1)\n",
    "aa = torch.softmax((a@a.T),-1)\n",
    "#bb = torch.softmax((b@b.T)*np.power(b.shape[-1],-0.5),-1)\n",
    "bb = torch.softmax((b@b.T),-1)\n",
    "foo = torch.randn(20,300)"
   ]
  },
  {
   "cell_type": "code",
   "execution_count": 5,
   "metadata": {},
   "outputs": [
    {
     "name": "stdout",
     "output_type": "stream",
     "text": [
      "aa[-1,-1] tensor(1.0000) tensor(1.0000)\n"
     ]
    }
   ],
   "source": [
    "print(\"aa[-1,-1]\",aa[-1,-1],aa[-2,-2])"
   ]
  },
  {
   "cell_type": "code",
   "execution_count": 6,
   "metadata": {},
   "outputs": [
    {
     "ename": "NameError",
     "evalue": "name 'pylab' is not defined",
     "output_type": "error",
     "traceback": [
      "\u001b[0;31m---------------------------------------------------------------------------\u001b[0m",
      "\u001b[0;31mNameError\u001b[0m                                 Traceback (most recent call last)",
      "\u001b[0;32m<ipython-input-6-33f06ed14e9b>\u001b[0m in \u001b[0;36m<module>\u001b[0;34m\u001b[0m\n\u001b[1;32m     15\u001b[0m \u001b[0;34m\u001b[0m\u001b[0m\n\u001b[1;32m     16\u001b[0m \u001b[0;31m#pylab.plot(mins[:,0],label=\"m1\")\u001b[0m\u001b[0;34m\u001b[0m\u001b[0;34m\u001b[0m\u001b[0;34m\u001b[0m\u001b[0m\n\u001b[0;32m---> 17\u001b[0;31m \u001b[0mpylab\u001b[0m\u001b[0;34m.\u001b[0m\u001b[0mplot\u001b[0m\u001b[0;34m(\u001b[0m\u001b[0mmins\u001b[0m\u001b[0;34m[\u001b[0m\u001b[0;34m:\u001b[0m\u001b[0;34m,\u001b[0m\u001b[0;36m1\u001b[0m\u001b[0;34m]\u001b[0m\u001b[0;34m,\u001b[0m\u001b[0mlabel\u001b[0m\u001b[0;34m=\u001b[0m\u001b[0;34m\"m2\"\u001b[0m\u001b[0;34m)\u001b[0m\u001b[0;34m\u001b[0m\u001b[0;34m\u001b[0m\u001b[0m\n\u001b[0m\u001b[1;32m     18\u001b[0m \u001b[0;31m#pylab.plot(mins[:,2],label=\"m3\")\u001b[0m\u001b[0;34m\u001b[0m\u001b[0;34m\u001b[0m\u001b[0;34m\u001b[0m\u001b[0m\n\u001b[1;32m     19\u001b[0m \u001b[0mpylab\u001b[0m\u001b[0;34m.\u001b[0m\u001b[0mplot\u001b[0m\u001b[0;34m(\u001b[0m\u001b[0mmins\u001b[0m\u001b[0;34m[\u001b[0m\u001b[0;34m:\u001b[0m\u001b[0;34m,\u001b[0m\u001b[0;36m3\u001b[0m\u001b[0;34m]\u001b[0m\u001b[0;34m,\u001b[0m\u001b[0mlabel\u001b[0m\u001b[0;34m=\u001b[0m\u001b[0;34m\"m4\"\u001b[0m\u001b[0;34m)\u001b[0m\u001b[0;34m\u001b[0m\u001b[0;34m\u001b[0m\u001b[0m\n",
      "\u001b[0;31mNameError\u001b[0m: name 'pylab' is not defined"
     ]
    }
   ],
   "source": [
    "\n",
    "M = 400\n",
    "mins = list()\n",
    "for i_m in range(2,M):\n",
    "    a_prime = useq.RNN_Absolute_Position(60).create_matrix(i_m)\n",
    "    aa_prime = (a_prime@a_prime.T)\n",
    "    m1 = torch.diag(aa_prime).min()\n",
    "    m2 = torch.diag(torch.softmax(aa_prime,-1)).min()\n",
    "    m3 = torch.diag((aa_prime)*np.power(a_prime.shape[-1],-0.5)).min()\n",
    "    m4 = torch.diag(torch.softmax((aa_prime)*np.power(a_prime.shape[-1],-0.5),-1)).min()\n",
    "    #aa_prime = torch.softmax((a_prime@a_prime.T)*np.power(a_prime.shape[-1],-0.5),-1)\n",
    "    #aa_prime = torch.softmax((a_prime@a_prime.T),-1)\n",
    "    #m_val = torch.diag(aa_prime).min()\n",
    "    mins.append([m1,m2,m3,m4])\n",
    "mins = np.array(mins)\n",
    "\n",
    "#pylab.plot(mins[:,0],label=\"m1\")\n",
    "pylab.plot(mins[:,1],label=\"m2\")\n",
    "#pylab.plot(mins[:,2],label=\"m3\")\n",
    "pylab.plot(mins[:,3],label=\"m4\")\n",
    "pylab.legend()\n",
    "pylab.ylim(-0.1,1.1)\n"
   ]
  },
  {
   "cell_type": "code",
   "execution_count": null,
   "metadata": {},
   "outputs": [],
   "source": [
    "\n",
    "M = 400\n",
    "mins = list()\n",
    "for i_m in range(2,M):\n",
    "    a_prime = useq.RNN_Relative_Position(60).create_matrix(i_m,i_m)\n",
    "    aa_prime = (a_prime@a_prime.T)\n",
    "    m1 = torch.diag(aa_prime).min()\n",
    "    m2 = torch.diag(torch.softmax(aa_prime,-1)).min()\n",
    "    m3 = torch.diag((aa_prime)*np.power(a_prime.shape[-1],-0.5)).min()\n",
    "    m4 = torch.diag(torch.softmax((aa_prime)*np.power(a_prime.shape[-1],-0.5),-1)).min()\n",
    "    #aa_prime = torch.softmax((a_prime@a_prime.T)*np.power(a_prime.shape[-1],-0.5),-1)\n",
    "    #aa_prime = torch.softmax((a_prime@a_prime.T),-1)\n",
    "    #m_val = torch.diag(aa_prime).min()\n",
    "    mins.append([m1,m2,m3,m4])\n",
    "mins = np.array(mins)\n",
    "\n",
    "#pylab.plot(mins[:,0],label=\"m1\")\n",
    "pylab.plot(mins[:,1],label=\"m2\")\n",
    "#pylab.plot(mins[:,2],label=\"m3\")\n",
    "pylab.plot(mins[:,3],label=\"m4\")\n",
    "pylab.legend()\n",
    "\n",
    "pylab.ylim(-0.1,1.1)\n"
   ]
  },
  {
   "cell_type": "code",
   "execution_count": null,
   "metadata": {},
   "outputs": [],
   "source": [
    "import pylab\n",
    "pylab.matshow(aa)\n",
    "pylab.matshow(bb)\n",
    "pylab.matshow(foo@foo.T)"
   ]
  },
  {
   "cell_type": "code",
   "execution_count": null,
   "metadata": {},
   "outputs": [],
   "source": []
  },
  {
   "cell_type": "code",
   "execution_count": null,
   "metadata": {},
   "outputs": [],
   "source": []
  }
 ],
 "metadata": {
  "kernelspec": {
   "display_name": "Python 3",
   "language": "python",
   "name": "python3"
  },
  "language_info": {
   "codemirror_mode": {
    "name": "ipython",
    "version": 3
   },
   "file_extension": ".py",
   "mimetype": "text/x-python",
   "name": "python",
   "nbconvert_exporter": "python",
   "pygments_lexer": "ipython3",
   "version": "3.7.4"
  }
 },
 "nbformat": 4,
 "nbformat_minor": 4
}
