{
 "cells": [
  {
   "cell_type": "code",
   "execution_count": 8,
   "metadata": {},
   "outputs": [
    {
     "name": "stdout",
     "output_type": "stream",
     "text": [
      "The autoreload extension is already loaded. To reload it, use:\n",
      "  %reload_ext autoreload\n"
     ]
    }
   ],
   "source": [
    "%load_ext autoreload\n",
    "%autoreload 2"
   ]
  },
  {
   "cell_type": "code",
   "execution_count": 9,
   "metadata": {},
   "outputs": [],
   "source": [
    "import sys\n",
    "sys.path.append(\"./code\")#You may have to alter this, depending on where you are running your notebook server."
   ]
  },
  {
   "cell_type": "code",
   "execution_count": 10,
   "metadata": {},
   "outputs": [],
   "source": [
    "from data import uniread\n",
    "import data.dataset as unimorph_dataset"
   ]
  },
  {
   "cell_type": "code",
   "execution_count": 11,
   "metadata": {},
   "outputs": [],
   "source": [
    "#We haven't settled on a mapping of languages and families yet...\n",
    "#So in this example, it's hardcoded as the last parameters.\n",
    "\n",
    "engdev = uniread.read_unimorph_tsv(\"/sigmorphon2020/task0-data/germanic/eng.dev\",1,1)\n",
    "germdev = uniread.read_unimorph_tsv(\"/sigmorphon2020/task0-data/germanic/deu.dev\",1,2)\n"
   ]
  },
  {
   "cell_type": "code",
   "execution_count": 12,
   "metadata": {},
   "outputs": [],
   "source": [
    "import data.alphabets as alphabets\n",
    "\n",
    "master_alpha = alphabets.get_master_alphabet()\n",
    "master_alpha_with_upper = master_alpha + alphabets.Alphabet(str(master_alpha).upper())"
   ]
  },
  {
   "cell_type": "code",
   "execution_count": 13,
   "metadata": {},
   "outputs": [],
   "source": [
    "ds = unimorph_dataset.pandas_to_dataset([engdev[:100], germdev[:100]],\n",
    "                                        alphabet_converter_in=master_alpha_with_upper,\n",
    "                                        alphabet_converter_out=master_alpha_with_upper)"
   ]
  },
  {
   "cell_type": "code",
   "execution_count": 14,
   "metadata": {},
   "outputs": [],
   "source": [
    "dl = unimorph_dataset.UnimorphDataLoader(ds,batch_size=5,collate_type=\"pack\")"
   ]
  },
  {
   "cell_type": "code",
   "execution_count": 16,
   "metadata": {},
   "outputs": [],
   "source": [
    "from utils.rnns import *\n",
    "from utils.seq import *\n",
    "\n",
    "import torch\n",
    "import torch.nn as nn"
   ]
  },
  {
   "cell_type": "code",
   "execution_count": 17,
   "metadata": {},
   "outputs": [],
   "source": [
    "#Just to see if we can have it spit out the same characters as input, no actual recurrence\n",
    "\n",
    "class No_RNN_Autoencoder(torch.nn.Module):\n",
    "    def __init__(self,N_SYMBOLS_IN, N_SYMBOLS_OUT):\n",
    "        super(No_RNN_Autoencoder,self).__init__()\n",
    "        self.N_SYMBOLS_IN = N_SYMBOLS_IN\n",
    "        self.N_SYMBOLS_OUT = N_SYMBOLS_OUT\n",
    "        self.N_hidden = 30\n",
    "        self.D_embed = N_SYMBOLS_IN \n",
    "        \n",
    "        self.everything = RNN_Layers(\n",
    "            RNN_Input_Embedding( nn.Embedding(N_SYMBOLS_IN,self.D_embed,padding_idx=0) )\n",
    "            , RNN_FFLayer(nn.Linear(self.D_embed,N_SYMBOLS_OUT))\n",
    "            , RNN_FFLayer(nn.Softmax(dim=-1))\n",
    "        )\n",
    "    \n",
    "    def forward(self, some_data):\n",
    "        return self.everything(some_data.lemma)"
   ]
  },
  {
   "cell_type": "code",
   "execution_count": 18,
   "metadata": {},
   "outputs": [],
   "source": [
    "model = No_RNN_Autoencoder(len(master_alpha_with_upper),len(master_alpha_with_upper))\n",
    "#model.everything[0].ff.weight = torch.nn.Parameter(1000*torch.eye(len(master_alpha_with_upper)))\n",
    "#model.everything[1].ff.weight = torch.nn.Parameter(1000*torch.eye(len(master_alpha_with_upper)))\n",
    "#model.everything[1].ff.bias = torch.nn.Parameter(torch.zeros(len(master_alpha_with_upper)))"
   ]
  },
  {
   "cell_type": "code",
   "execution_count": 19,
   "metadata": {},
   "outputs": [],
   "source": [
    "import torch.optim\n",
    "\n",
    "opt = torch.optim.SGD(model.parameters(),lr=10.0)\n",
    "\n",
    "letter_classes = torch.eye(len(master_alpha_with_upper))\n",
    "lossfunc = lambda pred,gt: ((pred.data - letter_classes[gt.data])**2).mean()"
   ]
  },
  {
   "cell_type": "code",
   "execution_count": null,
   "metadata": {},
   "outputs": [
    {
     "name": "stdout",
     "output_type": "stream",
     "text": [
      "tensor(0.0025, grad_fn=<MeanBackward0>)\n",
      "tensor(0.0014, grad_fn=<MeanBackward0>)\n"
     ]
    }
   ],
   "source": [
    "for j in range(1000):#epochs\n",
    "    \n",
    "    model.train()\n",
    "    for i in dl:\n",
    "        inputs, targets = i\n",
    "        \n",
    "        output, hidden = model.forward(inputs)\n",
    "        #loss = lossfunc(output,targets.form)\n",
    "        loss = lossfunc(output,inputs.lemma)#autoencoder, not proper model\n",
    "\n",
    "        loss.backward()\n",
    "\n",
    "        opt.step() #One step of the optimizer, adjusts parameters.\n",
    "        opt.zero_grad() #Zeros out the gradient for the next batch?\n",
    "    \n",
    "    if j%10 == 0:\n",
    "        model.eval()\n",
    "        inputs, targets = dl.collate_fn(dl.dataset)\n",
    "        output, hidden = model.forward(inputs)\n",
    "        loss = lossfunc(output,inputs.lemma)#autoencoder, not proper model\n",
    "        print(loss)\n"
   ]
  },
  {
   "cell_type": "code",
   "execution_count": 13,
   "metadata": {},
   "outputs": [],
   "source": [
    "model.eval()\n",
    "inputs, targets = dl.collate_fn(dl.dataset)\n",
    "output, hidden = model.forward(inputs.lemma)"
   ]
  },
  {
   "cell_type": "code",
   "execution_count": 14,
   "metadata": {},
   "outputs": [],
   "source": [
    "import pylab"
   ]
  },
  {
   "cell_type": "code",
   "execution_count": 15,
   "metadata": {},
   "outputs": [
    {
     "data": {
      "text/plain": [
       "Text(0.5, 1.05, 'Differences')"
      ]
     },
     "execution_count": 15,
     "metadata": {},
     "output_type": "execute_result"
    },
    {
     "data": {
      "image/png": "[encoded data removed]",
      "text/plain": [
       "<Figure size 1152x177.008 with 1 Axes>"
      ]
     },
     "metadata": {
      "needs_background": "light"
     },
     "output_type": "display_data"
    }
   ],
   "source": [
    "pylab.matshow(((output.data - letter_classes[inputs.lemma.data])**2).detach().numpy())\n",
    "pylab.title(\"Differences\")"
   ]
  },
  {
   "cell_type": "code",
   "execution_count": 16,
   "metadata": {},
   "outputs": [
    {
     "data": {
      "text/plain": [
       "Text(0.5, 1.05, 'Predictions')"
      ]
     },
     "execution_count": 16,
     "metadata": {},
     "output_type": "execute_result"
    },
    {
     "data": {
      "image/png": "[encoded data removed]",
      "text/plain": [
       "<Figure size 1152x177.008 with 1 Axes>"
      ]
     },
     "metadata": {
      "needs_background": "light"
     },
     "output_type": "display_data"
    }
   ],
   "source": [
    "pylab.matshow(((output.data).detach().numpy()))\n",
    "pylab.title(\"Predictions\")"
   ]
  },
  {
   "cell_type": "code",
   "execution_count": 17,
   "metadata": {},
   "outputs": [
    {
     "data": {
      "text/plain": [
       "Text(0.5, 1.05, 'Ground Truth')"
      ]
     },
     "execution_count": 17,
     "metadata": {},
     "output_type": "execute_result"
    },
    {
     "data": {
      "image/png": "[encoded data removed]",
      "text/plain": [
       "<Figure size 1152x177.008 with 1 Axes>"
      ]
     },
     "metadata": {
      "needs_background": "light"
     },
     "output_type": "display_data"
    }
   ],
   "source": [
    "pylab.matshow(((letter_classes[inputs.lemma.data]).detach().numpy()))\n",
    "pylab.title(\"Ground Truth\")"
   ]
  },
  {
   "cell_type": "code",
   "execution_count": null,
   "metadata": {},
   "outputs": [],
   "source": [
    "import glob"
   ]
  }
 ],
 "metadata": {
  "kernelspec": {
   "display_name": "Python 3",
   "language": "python",
   "name": "python3"
  },
  "language_info": {
   "codemirror_mode": {
    "name": "ipython",
    "version": 3
   },
   "file_extension": ".py",
   "mimetype": "text/x-python",
   "name": "python",
   "nbconvert_exporter": "python",
   "pygments_lexer": "ipython3",
   "version": "3.7.4"
  }
 },
 "nbformat": 4,
 "nbformat_minor": 4
}
