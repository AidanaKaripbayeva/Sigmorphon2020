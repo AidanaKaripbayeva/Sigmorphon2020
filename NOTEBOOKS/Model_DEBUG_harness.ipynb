{
 "cells": [
  {
   "cell_type": "code",
   "execution_count": 1,
   "metadata": {},
   "outputs": [],
   "source": [
    "%load_ext autoreload\n",
    "%autoreload 2"
   ]
  },
  {
   "cell_type": "code",
   "execution_count": 2,
   "metadata": {},
   "outputs": [],
   "source": [
    "import sys\n",
    "sys.path.append(\"../code\")#You may have to alter this, depending on where you are running your notebook server."
   ]
  },
  {
   "cell_type": "code",
   "execution_count": 3,
   "metadata": {},
   "outputs": [],
   "source": [
    "import data\n",
    "from data import uniread\n",
    "import data.dataset as unimorph_dataset"
   ]
  },
  {
   "cell_type": "code",
   "execution_count": 4,
   "metadata": {},
   "outputs": [],
   "source": [
    "df = data.SigmorphonData_Factory(\"/sigmorphon2020/task0-data\")"
   ]
  },
  {
   "cell_type": "code",
   "execution_count": 5,
   "metadata": {},
   "outputs": [
    {
     "name": "stdout",
     "output_type": "stream",
     "text": [
      "Loaded  11553  training examples.\n"
     ]
    }
   ],
   "source": [
    "dl = df.get_dataset(types=[\"dev\"],languages=[\"eng\"],dataloader_kwargs={\"batch_size\":3,'collate_type': 'unpacked'})\n",
    "print(\"Loaded \", len(dl.dataset), \" training examples.\")"
   ]
  },
  {
   "cell_type": "code",
   "execution_count": 6,
   "metadata": {},
   "outputs": [
    {
     "data": {
      "text/plain": [
       "{'num_families': 5,\n",
       " 'num_languages': 5,\n",
       " 'input_symbols': 76,\n",
       " 'output_symbols': 76,\n",
       " 'tags': torch.Size([356])}"
      ]
     },
     "execution_count": 6,
     "metadata": {},
     "output_type": "execute_result"
    }
   ],
   "source": [
    "some_dims = dl.dataset.get_dimensionality()\n",
    "some_dims"
   ]
  },
  {
   "cell_type": "code",
   "execution_count": 7,
   "metadata": {},
   "outputs": [],
   "source": [
    "one_batch = dl.__iter__().next()\n",
    "inputs, outputs = one_batch\n",
    "\n",
    "# Split the batch into semantic parts.\n",
    "family = inputs.family\n",
    "language = inputs.language\n",
    "tags = inputs.tags\n",
    "lemma = inputs.lemma\n",
    "\n",
    "form = outputs.form\n",
    "tags_str = outputs.tags_str\n",
    "lemma_str = outputs.lemma_str\n",
    "form_str = outputs.form_str"
   ]
  },
  {
   "cell_type": "code",
   "execution_count": 9,
   "metadata": {},
   "outputs": [],
   "source": [
    "#MODEL\n",
    "import models as MODELS"
   ]
  },
  {
   "cell_type": "code",
   "execution_count": 10,
   "metadata": {},
   "outputs": [],
   "source": [
    "\n",
    "\n",
    "model = MODELS.DumberTransducer(    some_dims[\"input_symbols\"],\n",
    "                                    some_dims[\"num_languages\"],\n",
    "                                    some_dims[\"tags\"],\n",
    "                                \n",
    "                                embedding_dim=20,\n",
    "                                hidden_dim=10,\n",
    "                                num_layers=3,\n",
    "                                output_length=50\n",
    "                               )"
   ]
  },
  {
   "cell_type": "code",
   "execution_count": null,
   "metadata": {},
   "outputs": [
    {
     "name": "stdout",
     "output_type": "stream",
     "text": [
      "> /mnt/shared/code/models/dumbertransducer.py(51)forward()\n",
      "-> x = self.linear(embedding)\n"
     ]
    },
    {
     "name": "stdin",
     "output_type": "stream",
     "text": [
      "(Pdb)  list\n"
     ]
    },
    {
     "name": "stdout",
     "output_type": "stream",
     "text": [
      " 46  \t    def forward(self, family, language, tags, position, embedding, states, hidden):\n",
      " 47  \t\n",
      " 48  \t        output_sequence = torch.zeros(self.max_output_length, dtype=torch.int32)\n",
      " 49  \t\n",
      " 50  \t        import pdb; pdb.set_trace()\n",
      " 51  ->\t        x = self.linear(embedding)\n",
      " 52  \t        x = self.sigmoid(x)\n",
      " 53  \t        y = self.final_softmax(x)\n",
      " 54  \t\n",
      " 55  \t\n",
      " 56  \t        for output_i in range(self.max_output_length):\n"
     ]
    },
    {
     "name": "stdin",
     "output_type": "stream",
     "text": [
      "(Pdb)  print(output_sequence)\n"
     ]
    },
    {
     "name": "stdout",
     "output_type": "stream",
     "text": [
      "tensor([0, 0, 0, 0, 0, 0, 0, 0, 0, 0, 0, 0, 0, 0, 0, 0, 0, 0, 0, 0, 0, 0, 0, 0,\n",
      "        0, 0, 0, 0, 0, 0, 0, 0, 0, 0, 0, 0, 0, 0, 0, 0, 0, 0, 0, 0, 0, 0, 0, 0,\n",
      "        0, 0], dtype=torch.int32)\n"
     ]
    }
   ],
   "source": [
    "batch_probs = model.forward(family, language, tags, lemma)"
   ]
  },
  {
   "cell_type": "code",
   "execution_count": 3,
   "metadata": {},
   "outputs": [
    {
     "ename": "NameError",
     "evalue": "name 'batch_probs' is not defined",
     "output_type": "error",
     "traceback": [
      "\u001b[0;31m---------------------------------------------------------------------------\u001b[0m",
      "\u001b[0;31mNameError\u001b[0m                                 Traceback (most recent call last)",
      "\u001b[0;32m<ipython-input-3-b71c4f442fbf>\u001b[0m in \u001b[0;36m<module>\u001b[0;34m\u001b[0m\n\u001b[0;32m----> 1\u001b[0;31m \u001b[0mbatch_probs\u001b[0m\u001b[0;34m\u001b[0m\u001b[0;34m\u001b[0m\u001b[0m\n\u001b[0m",
      "\u001b[0;31mNameError\u001b[0m: name 'batch_probs' is not defined"
     ]
    }
   ],
   "source": [
    "batch_probs"
   ]
  },
  {
   "cell_type": "code",
   "execution_count": null,
   "metadata": {},
   "outputs": [],
   "source": []
  }
 ],
 "metadata": {
  "kernelspec": {
   "display_name": "Python 3",
   "language": "python",
   "name": "python3"
  },
  "language_info": {
   "codemirror_mode": {
    "name": "ipython",
    "version": 3
   },
   "file_extension": ".py",
   "mimetype": "text/x-python",
   "name": "python",
   "nbconvert_exporter": "python",
   "pygments_lexer": "ipython3",
   "version": "3.7.4"
  }
 },
 "nbformat": 4,
 "nbformat_minor": 4
}
